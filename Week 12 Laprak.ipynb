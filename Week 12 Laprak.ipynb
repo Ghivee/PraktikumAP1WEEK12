{
  "nbformat": 4,
  "nbformat_minor": 0,
  "metadata": {
    "colab": {
      "provenance": []
    },
    "kernelspec": {
      "name": "python3",
      "display_name": "Python 3"
    },
    "language_info": {
      "name": "python"
    }
  },
  "cells": [
    {
      "cell_type": "code",
      "execution_count": 10,
      "metadata": {
        "id": "9RZu-fZH1l_H",
        "colab": {
          "base_uri": "https://localhost:8080/"
        },
        "outputId": "7b882fd6-2806-4c6d-a2e8-4f4ab23d2886"
      },
      "outputs": [
        {
          "output_type": "stream",
          "name": "stdout",
          "text": [
            "Pilih perhitungan luas:\n",
            "1. Luas Lingkaran\n",
            "2. Luas Persegi\n",
            "3. Luas Segitiga\n",
            "4. Selesai\n",
            "Masukkan pilihan (1/2/3/4): 4\n",
            "Program selesai.\n"
          ]
        }
      ],
      "source": [
        "import math  # baris 1\n",
        "\n",
        "def luas_lingkaran():  # baris 2\n",
        "    while True:\n",
        "        try:\n",
        "            radius = input(\"Masukkan jari-jari lingkaran: \")  # baris 3\n",
        "            if radius.strip() == \"\":  # Jika input kosong\n",
        "                raise TypeError(\"Tidak Boleh Kosong.\")\n",
        "            radius = int(radius)  # Konversi ke integer\n",
        "            if radius < 0:  # Memastikan nilai positif\n",
        "                raise ValueError(\"Jari-jari tidak boleh negatif.\")\n",
        "            luas = math.pi * (radius ** 2)  # baris 4\n",
        "            print(f\"Luas lingkaran adalah: {luas}\")  # baris 5\n",
        "            break\n",
        "        except TypeError as e:\n",
        "            print(f\"tidak boleh kosong.\")\n",
        "        except ValueError:\n",
        "            print(\"hanya boleh memasukkan angka.\")\n",
        "\n",
        "def luas_persegi():  # baris 6\n",
        "    while True:\n",
        "        try:\n",
        "            sisi = input(\"Masukkan panjang sisi persegi: \")  # baris 7\n",
        "            if sisi.strip() == \"\":  # Jika input kosong\n",
        "                raise TypeError(\"Tidak boleh kosong.\")\n",
        "            sisi = int(sisi)  # Konversi ke integer\n",
        "            if sisi < 0:  # Memastikan nilai positif\n",
        "                raise ValueError(\"Panjang sisi tidak boleh negatif.\")\n",
        "            luas = sisi ** 2  # baris 8\n",
        "            print(f\"Luas persegi adalah: {luas}\")  # baris 9\n",
        "            break\n",
        "        except TypeError as e:\n",
        "            print(f\"tidak boleh kosong.\")\n",
        "        except ValueError:\n",
        "            print(\"hanya boleh memasukkan angka.\")\n",
        "\n",
        "def luas_segitiga():  # baris 10\n",
        "    while True:\n",
        "        try:\n",
        "            alas = input(\"Masukkan panjang alas segitiga: \")  # baris 11\n",
        "            if alas.strip() == \"\":  # Jika input kosong\n",
        "                raise TypeError(\"Tidak boleh kosong.\")\n",
        "            alas = int(alas)  # Konversi ke integer\n",
        "            if alas < 0:  # Memastikan nilai positif\n",
        "                raise ValueError(\"Panjang alas tidak boleh negatif.\")\n",
        "\n",
        "            tinggi = input(\"Masukkan tinggi segitiga: \")  # baris 12\n",
        "            if tinggi.strip() == \"\":  # Jika input kosong\n",
        "                raise TypeError(\"Tidak boleh kosong.\")\n",
        "            tinggi = int(tinggi)  # Konversi ke integer\n",
        "            if tinggi < 0:  # Memastikan nilai positif\n",
        "                raise ValueError(\"Tinggi tidak boleh negatif.\")\n",
        "\n",
        "            luas = 0.5 * alas * tinggi  # baris 13\n",
        "            print(f\"Luas segitiga adalah: {luas}\")  # baris 14\n",
        "            break\n",
        "        except TypeError as e:\n",
        "            print(f\"tidak boleh kosong.\")\n",
        "        except ValueError:\n",
        "            print(\"hanya boleh memasukkan angka.\")\n",
        "\n",
        "while True:  # baris 15\n",
        "    print(\"Pilih perhitungan luas:\")  # baris 16\n",
        "    print(\"1. Luas Lingkaran\")  # baris 17\n",
        "    print(\"2. Luas Persegi\")  # baris 18\n",
        "    print(\"3. Luas Segitiga\")  # baris 19\n",
        "    print(\"4. Selesai\")  # baris 20\n",
        "\n",
        "    pilihan = input(\"Masukkan pilihan (1/2/3/4): \")  # baris 21\n",
        "\n",
        "    if pilihan == \"1\":  # baris 22\n",
        "        luas_lingkaran()  # baris 23\n",
        "    elif pilihan == \"2\":  # baris 24\n",
        "        luas_persegi()  # baris 25\n",
        "    elif pilihan == \"3\":  # baris 26\n",
        "        luas_segitiga()  # baris 27\n",
        "    elif pilihan == \"4\":  # baris 28\n",
        "        print(\"Program selesai.\")  # baris 29\n",
        "        break  # baris 30\n",
        "    else:  # baris 31\n",
        "        print(\"Pilihan tidak valid. Silakan coba lagi.\")  # baris 32\n"
      ]
    },
    {
      "cell_type": "code",
      "source": [
        "while True:\n",
        "    try:\n",
        "        npm = input(\"Masukkan NPM Anda: \")  # Meminta input NPM pengguna\n",
        "        if not npm.isdigit():  # Mengecek apakah input berisi hanya angka\n",
        "            raise TypeError(\"NPM harus berupa angka. Silakan coba lagi.\")  # Raise TypeError jika input bukan angka\n",
        "        break  # Keluar dari loop jika input valid\n",
        "    except TypeError as e:\n",
        "        print(e)\n",
        "\n",
        "ganjil = 0  # Berfungsi untuk memulai hasil bilangan ganjil dari 0\n",
        "genap = 0   # Berfungsi untuk memulai hasil bilangan genap dari 0\n",
        "\n",
        "try:\n",
        "    for angka in npm:  # Menghitung angka atau bilangan yang terdapat di NPM\n",
        "        if int(angka) % 2 == 0:  # Menghitung jika bilangan habis dibagi 2, maka itu adalah bilangan genap\n",
        "            genap += 1  # Jika ditemukan bilangan genap, maka akan bertambah 1 ke dalam variabel genap tersebut\n",
        "        else:  # Jika fungsi if di atas tidak sesuai, maka fungsi else ini akan dijalankan\n",
        "            ganjil += 1  # Jika ditemukan bilangan ganjil, maka akan bertambah 1 ke dalam variabel ganjil\n",
        "except Exception as e:\n",
        "    print(\"Terjadi kesalahan saat memproses NPM:\", e)\n",
        "\n",
        "print(\"NPM Anda Adalah: \", npm)      # Print NPM\n",
        "print(\"Jumlah angka ganjil: \", ganjil)  # Print jumlah bilangan ganjil\n",
        "print(\"Jumlah angka genap: \", genap)    # Print jumlah bilangan genap\n"
      ],
      "metadata": {
        "colab": {
          "base_uri": "https://localhost:8080/"
        },
        "id": "oxPg7gl66lu2",
        "outputId": "e2caf717-fc54-4b1b-bf5b-c7ee8a173c10"
      },
      "execution_count": 11,
      "outputs": [
        {
          "output_type": "stream",
          "name": "stdout",
          "text": [
            "Masukkan NPM Anda: 22221\n",
            "NPM Anda Adalah:  22221\n",
            "Jumlah angka ganjil:  1\n",
            "Jumlah angka genap:  4\n"
          ]
        }
      ]
    }
  ]
}